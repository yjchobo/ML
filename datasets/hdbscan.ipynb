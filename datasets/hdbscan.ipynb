{
 "cells": [
  {
   "cell_type": "code",
   "execution_count": 4,
   "metadata": {},
   "outputs": [],
   "source": [
    "from sklearn.datasets import make_blobs\n",
    "import pandas as pd"
   ]
  },
  {
   "cell_type": "code",
   "execution_count": 5,
   "metadata": {},
   "outputs": [],
   "source": [
    "blobs, labels = make_blobs(n_samples=2000, n_features=10)"
   ]
  },
  {
   "cell_type": "code",
   "execution_count": 6,
   "metadata": {},
   "outputs": [
    {
     "data": {
      "text/html": [
       "<div>\n",
       "<style scoped>\n",
       "    .dataframe tbody tr th:only-of-type {\n",
       "        vertical-align: middle;\n",
       "    }\n",
       "\n",
       "    .dataframe tbody tr th {\n",
       "        vertical-align: top;\n",
       "    }\n",
       "\n",
       "    .dataframe thead th {\n",
       "        text-align: right;\n",
       "    }\n",
       "</style>\n",
       "<table border=\"1\" class=\"dataframe\">\n",
       "  <thead>\n",
       "    <tr style=\"text-align: right;\">\n",
       "      <th></th>\n",
       "      <th>0</th>\n",
       "      <th>1</th>\n",
       "      <th>2</th>\n",
       "      <th>3</th>\n",
       "      <th>4</th>\n",
       "      <th>5</th>\n",
       "      <th>6</th>\n",
       "      <th>7</th>\n",
       "      <th>8</th>\n",
       "      <th>9</th>\n",
       "    </tr>\n",
       "  </thead>\n",
       "  <tbody>\n",
       "    <tr>\n",
       "      <th>0</th>\n",
       "      <td>-1.794655</td>\n",
       "      <td>8.338272</td>\n",
       "      <td>6.811566</td>\n",
       "      <td>0.136859</td>\n",
       "      <td>0.869531</td>\n",
       "      <td>7.909384</td>\n",
       "      <td>3.959698</td>\n",
       "      <td>-2.790876</td>\n",
       "      <td>1.269445</td>\n",
       "      <td>3.411208</td>\n",
       "    </tr>\n",
       "    <tr>\n",
       "      <th>1</th>\n",
       "      <td>-3.447500</td>\n",
       "      <td>5.284657</td>\n",
       "      <td>6.210713</td>\n",
       "      <td>-0.301520</td>\n",
       "      <td>2.487122</td>\n",
       "      <td>7.851946</td>\n",
       "      <td>2.536838</td>\n",
       "      <td>-2.859333</td>\n",
       "      <td>1.933704</td>\n",
       "      <td>3.134452</td>\n",
       "    </tr>\n",
       "    <tr>\n",
       "      <th>2</th>\n",
       "      <td>-2.772167</td>\n",
       "      <td>7.342213</td>\n",
       "      <td>6.696846</td>\n",
       "      <td>-0.663274</td>\n",
       "      <td>2.033543</td>\n",
       "      <td>10.397240</td>\n",
       "      <td>3.840361</td>\n",
       "      <td>-1.484347</td>\n",
       "      <td>0.839295</td>\n",
       "      <td>2.630862</td>\n",
       "    </tr>\n",
       "    <tr>\n",
       "      <th>3</th>\n",
       "      <td>-0.323634</td>\n",
       "      <td>-8.184199</td>\n",
       "      <td>6.188104</td>\n",
       "      <td>3.603663</td>\n",
       "      <td>2.544071</td>\n",
       "      <td>5.504295</td>\n",
       "      <td>-7.003738</td>\n",
       "      <td>-7.965031</td>\n",
       "      <td>-1.635778</td>\n",
       "      <td>1.104466</td>\n",
       "    </tr>\n",
       "    <tr>\n",
       "      <th>4</th>\n",
       "      <td>-3.699279</td>\n",
       "      <td>6.334548</td>\n",
       "      <td>6.234074</td>\n",
       "      <td>1.402251</td>\n",
       "      <td>2.923545</td>\n",
       "      <td>8.447702</td>\n",
       "      <td>2.635706</td>\n",
       "      <td>-2.090816</td>\n",
       "      <td>3.981652</td>\n",
       "      <td>2.482796</td>\n",
       "    </tr>\n",
       "  </tbody>\n",
       "</table>\n",
       "</div>"
      ],
      "text/plain": [
       "          0         1         2         3         4          5         6  \\\n",
       "0 -1.794655  8.338272  6.811566  0.136859  0.869531   7.909384  3.959698   \n",
       "1 -3.447500  5.284657  6.210713 -0.301520  2.487122   7.851946  2.536838   \n",
       "2 -2.772167  7.342213  6.696846 -0.663274  2.033543  10.397240  3.840361   \n",
       "3 -0.323634 -8.184199  6.188104  3.603663  2.544071   5.504295 -7.003738   \n",
       "4 -3.699279  6.334548  6.234074  1.402251  2.923545   8.447702  2.635706   \n",
       "\n",
       "          7         8         9  \n",
       "0 -2.790876  1.269445  3.411208  \n",
       "1 -2.859333  1.933704  3.134452  \n",
       "2 -1.484347  0.839295  2.630862  \n",
       "3 -7.965031 -1.635778  1.104466  \n",
       "4 -2.090816  3.981652  2.482796  "
      ]
     },
     "execution_count": 6,
     "metadata": {},
     "output_type": "execute_result"
    }
   ],
   "source": [
    "pd.DataFrame(blobs).head()"
   ]
  },
  {
   "cell_type": "code",
   "execution_count": 7,
   "metadata": {},
   "outputs": [],
   "source": [
    "import hdbscan"
   ]
  },
  {
   "cell_type": "markdown",
   "metadata": {},
   "source": [
    "Generate a clustering object"
   ]
  },
  {
   "cell_type": "code",
   "execution_count": 8,
   "metadata": {},
   "outputs": [],
   "source": [
    "clusterer = hdbscan.HDBSCAN()"
   ]
  },
  {
   "cell_type": "code",
   "execution_count": 9,
   "metadata": {},
   "outputs": [
    {
     "data": {
      "text/plain": [
       "HDBSCAN(algorithm='best', allow_single_cluster=False, alpha=1.0,\n",
       "    approx_min_span_tree=True, cluster_selection_method='eom',\n",
       "    core_dist_n_jobs=4, gen_min_span_tree=False, leaf_size=40,\n",
       "    match_reference_implementation=False, memory=Memory(location=None),\n",
       "    metric='euclidean', min_cluster_size=5, min_samples=None, p=None,\n",
       "    prediction_data=False)"
      ]
     },
     "execution_count": 9,
     "metadata": {},
     "output_type": "execute_result"
    }
   ],
   "source": [
    "clusterer.fit(blobs)"
   ]
  },
  {
   "cell_type": "code",
   "execution_count": 11,
   "metadata": {},
   "outputs": [
    {
     "data": {
      "text/plain": [
       "array([2, 2, 2, ..., 2, 0, 0], dtype=int64)"
      ]
     },
     "execution_count": 11,
     "metadata": {},
     "output_type": "execute_result"
    }
   ],
   "source": [
    "clusterer.labels_"
   ]
  },
  {
   "cell_type": "code",
   "execution_count": 12,
   "metadata": {},
   "outputs": [
    {
     "data": {
      "text/plain": [
       "2"
      ]
     },
     "execution_count": 12,
     "metadata": {},
     "output_type": "execute_result"
    }
   ],
   "source": [
    "clusterer.labels_.max()"
   ]
  },
  {
   "cell_type": "code",
   "execution_count": null,
   "metadata": {},
   "outputs": [],
   "source": []
  }
 ],
 "metadata": {
  "kernelspec": {
   "display_name": "Python 3",
   "language": "python",
   "name": "python3"
  },
  "language_info": {
   "codemirror_mode": {
    "name": "ipython",
    "version": 3
   },
   "file_extension": ".py",
   "mimetype": "text/x-python",
   "name": "python",
   "nbconvert_exporter": "python",
   "pygments_lexer": "ipython3",
   "version": "3.7.3"
  }
 },
 "nbformat": 4,
 "nbformat_minor": 2
}
